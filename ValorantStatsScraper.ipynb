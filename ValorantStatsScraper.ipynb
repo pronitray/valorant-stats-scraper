{
 "cells": [
  {
   "cell_type": "code",
   "execution_count": 1,
   "id": "b6894b86",
   "metadata": {},
   "outputs": [],
   "source": [
    "from bs4 import BeautifulSoup\n",
    "import requests\n",
    "import csv"
   ]
  },
  {
   "cell_type": "code",
   "execution_count": 2,
   "id": "e56f34d8",
   "metadata": {},
   "outputs": [],
   "source": [
    "URL = 'https://www.vlr.gg/stats'\n",
    "\n",
    "headers = {\"User-Agent\": \"Mozilla/5.0 (Windows NT 10.0; Win64; x64) AppleWebKit/537.36 (KHTML, like Gecko) Chrome/78.0.3904.108 Safari/537.36\", \"Accept-Encoding\":\"gzip, deflate\", \"Accept\":\"text/html,application/xhtml+xml,application/xml;q=0.9,*/*;q=0.8\", \"DNT\":\"1\",\"Connection\":\"close\", \"Upgrade-Insecure-Requests\":\"1\"}\n",
    "\n",
    "page = requests.get(URL, headers=headers)\n",
    "\n",
    "soup1 = BeautifulSoup(page.content, \"html.parser\")\n",
    "\n",
    "soup2 = BeautifulSoup(soup1.prettify(), \"html.parser\")\n",
    "\n",
    "player_names = soup2.find_all(\"div\", class_='text-of')\n",
    "\n",
    "player_country = soup2.find_all(\"div\", class_='stats-player-country')\n",
    "\n",
    "kd = soup2.find_all(\"div\", class_='color-sq')\n",
    "\n",
    "player_kd = []\n",
    "\n",
    "player_details = []\n",
    "\n",
    "player_details_new = []\n",
    "\n",
    "for i in range(0,len(player_names)):\n",
    "    player_names[i] = player_names[i].text.strip()\n",
    "    player_country[i] = player_country[i].text.strip()\n",
    "       \n",
    "for j in range(2,len(kd),11):\n",
    "    player_kd.append(kd[j].find(\"span\").text.strip())\n",
    "    \n",
    "for k in range(len(player_kd)):\n",
    "    player_details.extend([player_names[k].replace(\" \",\"\")+\" \"+player_country[k].replace(\" \",\"\")+\" \"+player_kd[k]])\n",
    "    player_details_new.append(list(player_details[k].split(\" \")))\n",
    "\n",
    "\n",
    "with open('ValorantStats.csv', 'w', newline='', encoding='UTF8') as f:\n",
    "    writer = csv.writer(f)\n",
    "    header = ['Name', 'Organization', 'K/D Ratio']\n",
    "    writer.writerow(header)\n",
    "    for data in player_details_new:\n",
    "        writer.writerow(data)"
   ]
  }
 ],
 "metadata": {
  "kernelspec": {
   "display_name": "Python 3 (ipykernel)",
   "language": "python",
   "name": "python3"
  },
  "language_info": {
   "codemirror_mode": {
    "name": "ipython",
    "version": 3
   },
   "file_extension": ".py",
   "mimetype": "text/x-python",
   "name": "python",
   "nbconvert_exporter": "python",
   "pygments_lexer": "ipython3",
   "version": "3.9.13"
  }
 },
 "nbformat": 4,
 "nbformat_minor": 5
}
